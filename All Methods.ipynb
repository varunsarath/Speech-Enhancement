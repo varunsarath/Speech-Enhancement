{
 "cells": [
  {
   "cell_type": "code",
   "execution_count": 1,
   "id": "923b0732",
   "metadata": {},
   "outputs": [
    {
     "name": "stderr",
     "output_type": "stream",
     "text": [
      "The filename specified was not found in the MATLAB path."
     ]
    }
   ],
   "source": [
    "%Adaptive Wiener Filtering\n",
    "\n",
    "[original,sampleRate]=audioread('clean_speech.wav');\n",
    "%all accumulators-\n",
    "stoi_noise=zeros(1,1);\n",
    "stoi_clean=zeros(1,1);\n",
    "snr_seg_noise=zeros(1,1);\n",
    "snr_seg_clean=zeros(1,1);\n",
    "snr_noise=zeros(1,1);\n",
    "snr_clean=zeros(1,1);\n",
    "noisy_signals=zeros(577655,1);\n",
    "clean_signals=zeros(577655,1);\n",
    "\n",
    "\n",
    "noise_levels=[-10,-5,0,5,10,15,20];\n",
    "%add noise of different levels\n",
    "\n",
    "for nl=1\n",
    "\n",
    "aud1=original;\n",
    "noise_aud1=awgn(aud1,noise_levels(nl),'measured');\n",
    "\n",
    "\n",
    "\n",
    "noise=noise_aud1(1:1024);\n",
    "\n",
    "%Steps according to Algorithm 3 in the report-\n",
    "% Calculate the noise psd-\n",
    "window=blackman(50);\n",
    "n_psd_welch=pwelch(noise,window);\n",
    "%estimate it from the first 1024 samples\n",
    "var_v=mean(n_psd_welch);\n",
    "%calculate the variance of the noise\n",
    "M=150;\n",
    "clean_signal=zeros(1,1);\n",
    "\n",
    "for i=1024:length(noise_aud1)-M\n",
    "   m_s= sum(noise_aud1(i-M:i+M))/(2*M+1);\n",
    "   m_x=m_s;\n",
    "   var_x=   sum((noise_aud1(i-M:i+M)-m_x).^2)/(1+2*M);\n",
    "\n",
    "   if(var_x>var_v)\n",
    "       var_s=var_x-var_v;\n",
    "   else\n",
    "       var_s=0;\n",
    "   end\n",
    "\n",
    "   cleaned=m_s + (var_s/(var_s+var_v)).*(noise_aud1(i)-m_s);\n",
    "   clean_signal=vertcat(clean_signal,cleaned);\n",
    "\n",
    "\n",
    "\n",
    "end\n",
    "clean_signalf=clean_signal(2:end);\n",
    "\n",
    "full_signal=vertcat(noise_aud1(1:1023),clean_signalf,noise_aud1(length(noise_aud1)-M+1:end));\n",
    "\n",
    "\n",
    "stoi_noise_current= stoi(aud1,noise_aud1,16000);\n",
    "stoi_clean_current = stoi(aud1,full_signal,16000);\n",
    "\n",
    "[snr_seg_noise_current,snr_noise_current]=v_snrseg(noise_aud1,aud1,16000);\n",
    "[snr_seg_clean_current,snr_clean_current]= v_snrseg(full_signal,aud1,16000);\n",
    "\n",
    "stoi_noise=horzcat(stoi_noise,stoi_noise_current);\n",
    "stoi_clean=horzcat(stoi_clean,stoi_clean_current);\n",
    "\n",
    "snr_seg_noise=horzcat(snr_seg_noise,snr_seg_noise_current);\n",
    "snr_seg_clean=horzcat(snr_seg_clean,snr_seg_clean_current);\n",
    "\n",
    "snr_noise=horzcat(snr_noise,snr_noise_current);\n",
    "snr_clean=horzcat(snr_clean,snr_clean_current);\n",
    "\n",
    "noisy_signals=horzcat(noisy_signals,noise_aud1);\n",
    "clean_signals=horzcat(clean_signals,full_signal);\n",
    "\n",
    "\n",
    "end\n",
    "\n",
    "\n",
    "\n",
    "\n",
    "\n"
   ]
  },
  {
   "cell_type": "code",
   "execution_count": null,
   "id": "bda4e65d",
   "metadata": {},
   "outputs": [],
   "source": []
  }
 ],
 "metadata": {
  "kernelspec": {
   "display_name": "MATLAB Kernel",
   "language": "matlab",
   "name": "jupyter_matlab_kernel"
  },
  "language_info": {
   "file_extension": ".m",
   "mimetype": "text/x-matlab",
   "name": "matlab"
  },
  "varInspector": {
   "cols": {
    "lenName": 16,
    "lenType": 16,
    "lenVar": 40
   },
   "kernels_config": {
    "python": {
     "delete_cmd_postfix": "",
     "delete_cmd_prefix": "del ",
     "library": "var_list.py",
     "varRefreshCmd": "print(var_dic_list())"
    },
    "r": {
     "delete_cmd_postfix": ") ",
     "delete_cmd_prefix": "rm(",
     "library": "var_list.r",
     "varRefreshCmd": "cat(var_dic_list()) "
    }
   },
   "types_to_exclude": [
    "module",
    "function",
    "builtin_function_or_method",
    "instance",
    "_Feature"
   ],
   "window_display": false
  }
 },
 "nbformat": 4,
 "nbformat_minor": 5
}
